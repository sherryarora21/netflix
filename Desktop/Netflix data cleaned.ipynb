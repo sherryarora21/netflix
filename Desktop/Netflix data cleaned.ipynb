{
 "cells": [
  {
   "cell_type": "code",
   "execution_count": 108,
   "id": "06a9d191-d002-4e89-ace4-d987012513e4",
   "metadata": {},
   "outputs": [
    {
     "name": "stdout",
     "output_type": "stream",
     "text": [
      "  show_id     type                  title         director  \\\n",
      "0      s1    Movie   Dick Johnson Is Dead  Kirsten Johnson   \n",
      "1      s2  TV Show          Blood & Water              NaN   \n",
      "2      s3  TV Show              Ganglands  Julien Leclercq   \n",
      "3      s4  TV Show  Jailbirds New Orleans              NaN   \n",
      "4      s5  TV Show           Kota Factory              NaN   \n",
      "\n",
      "                                                cast        country  \\\n",
      "0                                                NaN  United States   \n",
      "1  Ama Qamata, Khosi Ngema, Gail Mabalane, Thaban...   South Africa   \n",
      "2  Sami Bouajila, Tracy Gotoas, Samuel Jouy, Nabi...            NaN   \n",
      "3                                                NaN            NaN   \n",
      "4  Mayur More, Jitendra Kumar, Ranjan Raj, Alam K...          India   \n",
      "\n",
      "           date_added  release_year rating   duration  \\\n",
      "0  September 25, 2021          2020  PG-13     90 min   \n",
      "1  September 24, 2021          2021  TV-MA  2 Seasons   \n",
      "2  September 24, 2021          2021  TV-MA   1 Season   \n",
      "3  September 24, 2021          2021  TV-MA   1 Season   \n",
      "4  September 24, 2021          2021  TV-MA  2 Seasons   \n",
      "\n",
      "                                           listed_in  \\\n",
      "0                                      Documentaries   \n",
      "1    International TV Shows, TV Dramas, TV Mysteries   \n",
      "2  Crime TV Shows, International TV Shows, TV Act...   \n",
      "3                             Docuseries, Reality TV   \n",
      "4  International TV Shows, Romantic TV Shows, TV ...   \n",
      "\n",
      "                                         description  \n",
      "0  As her father nears the end of his life, filmm...  \n",
      "1  After crossing paths at a party, a Cape Town t...  \n",
      "2  To protect his family from a powerful drug lor...  \n",
      "3  Feuds, flirtations and toilet talk go down amo...  \n",
      "4  In a city of coaching centers known to train I...  \n"
     ]
    }
   ],
   "source": [
    "#Import libraries\n",
    "\n",
    "import pandas as pd\n",
    "import os\n",
    "import re\n",
    "\n",
    "#Load data\n",
    "\n",
    "file_path = '/Users/sherryarora/Desktop/netflix_titles.csv'\n",
    "netflix_data = pd.read_csv(file_path)\n",
    "print(netflix_data.head())"
   ]
  },
  {
   "cell_type": "code",
   "execution_count": 109,
   "id": "1e8a89c4-c75c-48c8-b7de-35075f0bcdca",
   "metadata": {},
   "outputs": [
    {
     "name": "stdout",
     "output_type": "stream",
     "text": [
      "<class 'pandas.core.frame.DataFrame'>\n",
      "RangeIndex: 8807 entries, 0 to 8806\n",
      "Data columns (total 12 columns):\n",
      " #   Column        Non-Null Count  Dtype \n",
      "---  ------        --------------  ----- \n",
      " 0   show_id       8807 non-null   object\n",
      " 1   type          8807 non-null   object\n",
      " 2   title         8807 non-null   object\n",
      " 3   director      6173 non-null   object\n",
      " 4   cast          7982 non-null   object\n",
      " 5   country       7976 non-null   object\n",
      " 6   date_added    8797 non-null   object\n",
      " 7   release_year  8807 non-null   int64 \n",
      " 8   rating        8803 non-null   object\n",
      " 9   duration      8804 non-null   object\n",
      " 10  listed_in     8807 non-null   object\n",
      " 11  description   8807 non-null   object\n",
      "dtypes: int64(1), object(11)\n",
      "memory usage: 825.8+ KB\n",
      "None\n",
      "['PG-13' 'TV-MA' 'PG' 'TV-14' 'TV-PG' 'TV-Y' 'TV-Y7' 'R' 'TV-G' 'G'\n",
      " 'NC-17' '74 min' '84 min' '66 min' 'NR' nan 'TV-Y7-FV' 'UR']\n"
     ]
    }
   ],
   "source": [
    "print(netflix_data.info())\n",
    "print(netflix_data['rating'].unique())\n"
   ]
  },
  {
   "cell_type": "code",
   "execution_count": 111,
   "id": "c6596fdf-9d4f-42f9-8092-28a720133a9a",
   "metadata": {},
   "outputs": [
    {
     "name": "stdout",
     "output_type": "stream",
     "text": [
      "show_id            0\n",
      "type               0\n",
      "title              0\n",
      "director        2634\n",
      "cast             825\n",
      "country          831\n",
      "date_added        10\n",
      "release_year       0\n",
      "rating             4\n",
      "duration           3\n",
      "listed_in          0\n",
      "description        0\n",
      "dtype: int64\n"
     ]
    }
   ],
   "source": [
    "# Convert date_added to date, duration cannot be put into 1 format since 1 season = ? mins , convert the rating which has min into 'Unknown',\n",
    "# split countries, listed in, director and cast to separate rows to be able to viz based on the different countries and cast members\n",
    "# Convert nulls to 'Unknown'\n",
    "print(netflix_data.isnull().sum())\n"
   ]
  },
  {
   "cell_type": "code",
   "execution_count": 112,
   "id": "cc8cba6b-d413-4592-8373-81e930b49fa8",
   "metadata": {},
   "outputs": [
    {
     "name": "stdout",
     "output_type": "stream",
     "text": [
      "{'director': np.int64(2634), 'cast': np.int64(825), 'country': np.int64(831), 'rating': np.int64(4), 'duration': np.int64(3)}\n"
     ]
    }
   ],
   "source": [
    "netflix_data['director'] = netflix_data['director'].fillna('Unknown')\n",
    "netflix_data['cast'] = netflix_data['cast'].fillna('Unknown')\n",
    "netflix_data['country'] = netflix_data['country'].fillna('Unknown')\n",
    "netflix_data['rating'] = netflix_data['rating'].fillna('Unknown')\n",
    "netflix_data['duration'] = netflix_data['duration'].fillna('Unknown')\n",
    "\n",
    "# Count Unknown values in each column to check they match the nulls above\n",
    "unknown_counts = {\n",
    "    'director': (netflix_data['director'] == 'Unknown').sum(),\n",
    "    'cast': (netflix_data['cast'] == 'Unknown').sum(),\n",
    "    'country': (netflix_data['country'] == 'Unknown').sum(),\n",
    "    'rating': (netflix_data['rating'] == 'Unknown').sum(),\n",
    "    'duration': (netflix_data['duration'] == 'Unknown').sum()\n",
    "}\n",
    "\n",
    "# Print the counts to check\n",
    "print(unknown_counts)\n"
   ]
  },
  {
   "cell_type": "code",
   "execution_count": 113,
   "id": "15ec5aef-73cc-4df7-8cf5-81bb9d0ae236",
   "metadata": {},
   "outputs": [
    {
     "data": {
      "text/plain": [
       "\"\\n\\noriginal_date_added = netflix_data['date_added'].copy()\\nnetflix_data['date_added'] = pd.to_datetime(netflix_data['date_added'], errors='coerce')\\ninvalid_dates = netflix_data[netflix_data['date_added'].isna()]\\n\\ninvalid_dates_with_original = invalid_dates[['show_id']].copy() \\ninvalid_dates_with_original['original_date_added'] = original_date_added[invalid_dates.index]  \\n\\nprint(invalid_dates_with_original) \""
      ]
     },
     "execution_count": 113,
     "metadata": {},
     "output_type": "execute_result"
    }
   ],
   "source": [
    "\"\"\"\n",
    "netflix_data['date_added'] = pd.to_datetime(netflix_data['date_added'], errors='coerce')\n",
    " nan_count = netflix_data['date_added'].isna().sum()\n",
    " print(nan_count) \"\"\"\n",
    "# Should be 10 nulls, not 98 post conversion. Above code no longer required\n",
    "\n",
    "# Re do the date conversion to analyse and preserve the 88 dates (reload dataset first). \n",
    "\"\"\"\n",
    "\n",
    "original_date_added = netflix_data['date_added'].copy()\n",
    "netflix_data['date_added'] = pd.to_datetime(netflix_data['date_added'], errors='coerce')\n",
    "invalid_dates = netflix_data[netflix_data['date_added'].isna()]\n",
    "\n",
    "invalid_dates_with_original = invalid_dates[['show_id']].copy() \n",
    "invalid_dates_with_original['original_date_added'] = original_date_added[invalid_dates.index]  \n",
    "\n",
    "print(invalid_dates_with_original) \"\"\"\n",
    "\n",
    "# Above code no longer required as we need to handle the date another way post above analysis"
   ]
  },
  {
   "cell_type": "code",
   "execution_count": 114,
   "id": "e4bde056-312c-45d7-ae29-62a1f48598ac",
   "metadata": {},
   "outputs": [],
   "source": [
    "# Checked above printed values in csv, leading white space prior to these dates. Clean that up below (Reloaded dataset)\n",
    "netflix_data['date_added'] = netflix_data['date_added'].str.strip()\n",
    "netflix_data['date_added'] = pd.to_datetime(netflix_data['date_added'], errors='coerce', format='%B %d, %Y')\n",
    "\n"
   ]
  },
  {
   "cell_type": "code",
   "execution_count": 115,
   "id": "0893114e-ab65-42eb-b4ef-7ac0452bd898",
   "metadata": {},
   "outputs": [
    {
     "name": "stdout",
     "output_type": "stream",
     "text": [
      "     show_id date_added\n",
      "6066   s6067        NaT\n",
      "6174   s6175        NaT\n",
      "6795   s6796        NaT\n",
      "6806   s6807        NaT\n",
      "6901   s6902        NaT\n",
      "7196   s7197        NaT\n",
      "7254   s7255        NaT\n",
      "7406   s7407        NaT\n",
      "7847   s7848        NaT\n",
      "8182   s8183        NaT\n"
     ]
    }
   ],
   "source": [
    "# Check for null values in the date_added column\n",
    "invalid_dates = netflix_data[netflix_data['date_added'].isna()]\n",
    "print(invalid_dates[['show_id', 'date_added']])   \n",
    "# 10 nulls as expected "
   ]
  },
  {
   "cell_type": "code",
   "execution_count": 116,
   "id": "00c22e50-6127-4e68-aa17-def82c5dcd2d",
   "metadata": {},
   "outputs": [],
   "source": [
    "# Put a anomaly date instead of nulls to format the column to one data type\n",
    "netflix_data['date_added'] = netflix_data['date_added'].fillna(pd.to_datetime('1900-01-01'))"
   ]
  },
  {
   "cell_type": "code",
   "execution_count": 117,
   "id": "5bf06e15-240e-41c1-89ff-8ec6d8cd5c81",
   "metadata": {},
   "outputs": [
    {
     "name": "stdout",
     "output_type": "stream",
     "text": [
      "show_id         0\n",
      "type            0\n",
      "title           0\n",
      "director        0\n",
      "cast            0\n",
      "country         0\n",
      "date_added      0\n",
      "release_year    0\n",
      "rating          0\n",
      "duration        0\n",
      "listed_in       0\n",
      "description     0\n",
      "dtype: int64\n"
     ]
    }
   ],
   "source": [
    "print(netflix_data.isnull().sum())\n",
    "# No nulls as expected in any col\n"
   ]
  },
  {
   "cell_type": "code",
   "execution_count": 118,
   "id": "3052da76-84e7-4537-b500-249d28fc587a",
   "metadata": {},
   "outputs": [
    {
     "name": "stdout",
     "output_type": "stream",
     "text": [
      "Unique ratings now: ['PG-13' 'TV-MA' 'PG' 'TV-14' 'TV-PG' 'TV-Y' 'TV-Y7' 'R' 'TV-G' 'G'\n",
      " 'NC-17' 'Unknown' 'NR' 'TV-Y7-FV' 'UR']\n"
     ]
    }
   ],
   "source": [
    "# Replace any rating values containing the str min with Unknown\n",
    "netflix_data['rating'] = netflix_data['rating'].apply(lambda x: 'Unknown' if 'min' in str(x) else x)\n",
    "\n",
    "unique_ratings = netflix_data['rating'].unique()\n",
    "print(\"Unique ratings now:\", unique_ratings)\n"
   ]
  },
  {
   "cell_type": "code",
   "execution_count": 119,
   "id": "71c35e4e-4fbc-45e9-9e17-b3a7d05f0d55",
   "metadata": {},
   "outputs": [
    {
     "name": "stdout",
     "output_type": "stream",
     "text": [
      "              title          cast       country               listed_in  \\\n",
      "1     Blood & Water    Ama Qamata  South Africa  International TV Shows   \n",
      "2     Blood & Water    Ama Qamata  South Africa               TV Dramas   \n",
      "3     Blood & Water    Ama Qamata  South Africa            TV Mysteries   \n",
      "4     Blood & Water   Khosi Ngema  South Africa  International TV Shows   \n",
      "5     Blood & Water   Khosi Ngema  South Africa               TV Dramas   \n",
      "...             ...           ...           ...                     ...   \n",
      "4748           D.P.  Kim Sungkyun   South Korea               TV Dramas   \n",
      "4749           D.P.     Son Sukku                International TV Shows   \n",
      "4750           D.P.     Son Sukku                             TV Dramas   \n",
      "4751           D.P.     Son Sukku   South Korea  International TV Shows   \n",
      "4752           D.P.     Son Sukku   South Korea               TV Dramas   \n",
      "\n",
      "     director  \n",
      "1     Unknown  \n",
      "2     Unknown  \n",
      "3     Unknown  \n",
      "4     Unknown  \n",
      "5     Unknown  \n",
      "...       ...  \n",
      "4748  Unknown  \n",
      "4749  Unknown  \n",
      "4750  Unknown  \n",
      "4751  Unknown  \n",
      "4752  Unknown  \n",
      "\n",
      "[73 rows x 5 columns]\n"
     ]
    }
   ],
   "source": [
    "# To split cast, country and listen_in into separate rows to be able to visualise later and group by individual cast members or country or genre\n",
    "\n",
    "# Function to clean names \n",
    "def clean_name(name):\n",
    "    if isinstance(name, str):\n",
    "        cleaned_name = re.sub(r'[^a-zA-ZáéíóúñÁÉÍÓÚÑüÜçÇ\\s,]', '', name)\n",
    "        return cleaned_name.strip()\n",
    "    else:\n",
    "        return \"\"  \n",
    "\n",
    "# Clean the cast, country, listed_in, and director columns (before splitting and exploding)\n",
    "netflix_data['cast'] = netflix_data['cast'].apply(lambda x: clean_name(str(x).replace(\"[\", \"\").replace(\"]\", \"\").replace(\"'\", \"\").strip()))\n",
    "netflix_data['country'] = netflix_data['country'].apply(lambda x: str(x).replace(\"[\", \"\").replace(\"]\", \"\").replace(\"'\", \"\").strip())\n",
    "netflix_data['listed_in'] = netflix_data['listed_in'].apply(lambda x: str(x).replace(\"[\", \"\").replace(\"]\", \"\").replace(\"'\", \"\").strip())\n",
    "netflix_data['director'] = netflix_data['director'].apply(lambda x: clean_name(str(x).replace(\"[\", \"\").replace(\"]\", \"\").replace(\"'\", \"\").strip()))\n",
    "\n",
    "# Split columns by commas into lists\n",
    "netflix_data['cast'] = netflix_data['cast'].str.split(', ')\n",
    "netflix_data['country'] = netflix_data['country'].str.split(', ')\n",
    "netflix_data['listed_in'] = netflix_data['listed_in'].str.split(', ')\n",
    "netflix_data['director'] = netflix_data['director'].str.split(', ')\n",
    "\n",
    "# Exploding the columns to separate rows\n",
    "netflix_data_exploded = netflix_data.explode('cast').explode('country').explode('listed_in').explode('director').reset_index(drop=True)\n",
    "\n",
    "# Remove any remaining unwanted characters after exploding\n",
    "netflix_data_exploded['cast'] = netflix_data_exploded['cast'].apply(lambda x: clean_name(str(x).strip()))\n",
    "netflix_data_exploded['country'] = netflix_data_exploded['country'].apply(lambda x: str(x).strip())\n",
    "netflix_data_exploded['listed_in'] = netflix_data_exploded['listed_in'].apply(lambda x: str(x).strip())\n",
    "netflix_data_exploded['director'] = netflix_data_exploded['director'].apply(lambda x: clean_name(str(x).strip()))\n",
    "\n",
    "# Validating data by checking random movies\n",
    "movies_data = netflix_data_exploded[netflix_data_exploded['title'].isin(['Blood & Water', 'D.P.'])]\n",
    "print(movies_data[['title', 'cast', 'country', 'listed_in', 'director']])\n",
    "\n"
   ]
  },
  {
   "cell_type": "code",
   "execution_count": 104,
   "id": "6fb962ef-83b9-43a3-ba30-34e5f444daad",
   "metadata": {},
   "outputs": [
    {
     "name": "stdout",
     "output_type": "stream",
     "text": [
      "                title                 cast country               listed_in\n",
      "4737             D.P.           Jung Haein          International TV Shows\n",
      "4738             D.P.           Jung Haein                       TV Dramas\n",
      "4741             D.P.          Koo Kyohwan          International TV Shows\n",
      "4742             D.P.          Koo Kyohwan                       TV Dramas\n",
      "4745             D.P.         Kim Sungkyun          International TV Shows\n",
      "4746             D.P.         Kim Sungkyun                       TV Dramas\n",
      "4749             D.P.            Son Sukku          International TV Shows\n",
      "4750             D.P.            Son Sukku                       TV Dramas\n",
      "9056  Eyes of a Thief  Khaled Abol El Naga                          Dramas\n",
      "9057  Eyes of a Thief  Khaled Abol El Naga              Independent Movies\n",
      "9058  Eyes of a Thief  Khaled Abol El Naga            International Movies\n",
      "9065  Eyes of a Thief          Souad Massi                          Dramas\n",
      "9066  Eyes of a Thief          Souad Massi              Independent Movies\n",
      "9067  Eyes of a Thief          Souad Massi            International Movies\n",
      "9074  Eyes of a Thief        Suhail Haddad                          Dramas\n",
      "9075  Eyes of a Thief        Suhail Haddad              Independent Movies\n",
      "9076  Eyes of a Thief        Suhail Haddad            International Movies\n",
      "9083  Eyes of a Thief        Malak Ermileh                          Dramas\n",
      "9084  Eyes of a Thief        Malak Ermileh              Independent Movies\n",
      "9085  Eyes of a Thief        Malak Ermileh            International Movies\n",
      "9092  Eyes of a Thief     Maisa Abd Elhadi                          Dramas\n",
      "9093  Eyes of a Thief     Maisa Abd Elhadi              Independent Movies\n",
      "9094  Eyes of a Thief     Maisa Abd Elhadi            International Movies\n",
      "9101  Eyes of a Thief    Walid Abdul Salam                          Dramas\n",
      "9102  Eyes of a Thief    Walid Abdul Salam              Independent Movies\n",
      "9103  Eyes of a Thief    Walid Abdul Salam            International Movies\n",
      "9110  Eyes of a Thief        Nisreen Faour                          Dramas\n",
      "9111  Eyes of a Thief        Nisreen Faour              Independent Movies\n",
      "9112  Eyes of a Thief        Nisreen Faour            International Movies\n",
      "9119  Eyes of a Thief          Areen Omari                          Dramas\n",
      "9120  Eyes of a Thief          Areen Omari              Independent Movies\n",
      "9121  Eyes of a Thief          Areen Omari            International Movies\n"
     ]
    }
   ],
   "source": [
    "# Filter to find empty strings since DP above has empty string in countries\n",
    "empty_values = netflix_data_exploded[(netflix_data_exploded['cast'] == '') | (netflix_data_exploded['country'] == '')]\n",
    "print(empty_values[['title', 'cast', 'country', 'listed_in']])\n"
   ]
  },
  {
   "cell_type": "code",
   "execution_count": 105,
   "id": "6df57ed7-b41b-4359-a161-2535ee4d6f24",
   "metadata": {},
   "outputs": [
    {
     "name": "stdout",
     "output_type": "stream",
     "text": [
      "                title                 cast      country  \\\n",
      "4739             D.P.           Jung Haein  South Korea   \n",
      "4740             D.P.           Jung Haein  South Korea   \n",
      "4743             D.P.          Koo Kyohwan  South Korea   \n",
      "4744             D.P.          Koo Kyohwan  South Korea   \n",
      "4747             D.P.         Kim Sungkyun  South Korea   \n",
      "4748             D.P.         Kim Sungkyun  South Korea   \n",
      "4751             D.P.            Son Sukku  South Korea   \n",
      "4752             D.P.            Son Sukku  South Korea   \n",
      "9059  Eyes of a Thief  Khaled Abol El Naga       France   \n",
      "9060  Eyes of a Thief  Khaled Abol El Naga       France   \n",
      "9061  Eyes of a Thief  Khaled Abol El Naga       France   \n",
      "9062  Eyes of a Thief  Khaled Abol El Naga      Algeria   \n",
      "9063  Eyes of a Thief  Khaled Abol El Naga      Algeria   \n",
      "9064  Eyes of a Thief  Khaled Abol El Naga      Algeria   \n",
      "9068  Eyes of a Thief          Souad Massi       France   \n",
      "9069  Eyes of a Thief          Souad Massi       France   \n",
      "9070  Eyes of a Thief          Souad Massi       France   \n",
      "9071  Eyes of a Thief          Souad Massi      Algeria   \n",
      "9072  Eyes of a Thief          Souad Massi      Algeria   \n",
      "9073  Eyes of a Thief          Souad Massi      Algeria   \n",
      "9077  Eyes of a Thief        Suhail Haddad       France   \n",
      "9078  Eyes of a Thief        Suhail Haddad       France   \n",
      "9079  Eyes of a Thief        Suhail Haddad       France   \n",
      "9080  Eyes of a Thief        Suhail Haddad      Algeria   \n",
      "9081  Eyes of a Thief        Suhail Haddad      Algeria   \n",
      "9082  Eyes of a Thief        Suhail Haddad      Algeria   \n",
      "9086  Eyes of a Thief        Malak Ermileh       France   \n",
      "9087  Eyes of a Thief        Malak Ermileh       France   \n",
      "9088  Eyes of a Thief        Malak Ermileh       France   \n",
      "9089  Eyes of a Thief        Malak Ermileh      Algeria   \n",
      "9090  Eyes of a Thief        Malak Ermileh      Algeria   \n",
      "9091  Eyes of a Thief        Malak Ermileh      Algeria   \n",
      "9095  Eyes of a Thief     Maisa Abd Elhadi       France   \n",
      "9096  Eyes of a Thief     Maisa Abd Elhadi       France   \n",
      "9097  Eyes of a Thief     Maisa Abd Elhadi       France   \n",
      "9098  Eyes of a Thief     Maisa Abd Elhadi      Algeria   \n",
      "9099  Eyes of a Thief     Maisa Abd Elhadi      Algeria   \n",
      "9100  Eyes of a Thief     Maisa Abd Elhadi      Algeria   \n",
      "9104  Eyes of a Thief    Walid Abdul Salam       France   \n",
      "9105  Eyes of a Thief    Walid Abdul Salam       France   \n",
      "9106  Eyes of a Thief    Walid Abdul Salam       France   \n",
      "9107  Eyes of a Thief    Walid Abdul Salam      Algeria   \n",
      "9108  Eyes of a Thief    Walid Abdul Salam      Algeria   \n",
      "9109  Eyes of a Thief    Walid Abdul Salam      Algeria   \n",
      "9113  Eyes of a Thief        Nisreen Faour       France   \n",
      "9114  Eyes of a Thief        Nisreen Faour       France   \n",
      "9115  Eyes of a Thief        Nisreen Faour       France   \n",
      "9116  Eyes of a Thief        Nisreen Faour      Algeria   \n",
      "9117  Eyes of a Thief        Nisreen Faour      Algeria   \n",
      "9118  Eyes of a Thief        Nisreen Faour      Algeria   \n",
      "9122  Eyes of a Thief          Areen Omari       France   \n",
      "9123  Eyes of a Thief          Areen Omari       France   \n",
      "9124  Eyes of a Thief          Areen Omari       France   \n",
      "9125  Eyes of a Thief          Areen Omari      Algeria   \n",
      "9126  Eyes of a Thief          Areen Omari      Algeria   \n",
      "9127  Eyes of a Thief          Areen Omari      Algeria   \n",
      "\n",
      "                   listed_in  \n",
      "4739  International TV Shows  \n",
      "4740               TV Dramas  \n",
      "4743  International TV Shows  \n",
      "4744               TV Dramas  \n",
      "4747  International TV Shows  \n",
      "4748               TV Dramas  \n",
      "4751  International TV Shows  \n",
      "4752               TV Dramas  \n",
      "9059                  Dramas  \n",
      "9060      Independent Movies  \n",
      "9061    International Movies  \n",
      "9062                  Dramas  \n",
      "9063      Independent Movies  \n",
      "9064    International Movies  \n",
      "9068                  Dramas  \n",
      "9069      Independent Movies  \n",
      "9070    International Movies  \n",
      "9071                  Dramas  \n",
      "9072      Independent Movies  \n",
      "9073    International Movies  \n",
      "9077                  Dramas  \n",
      "9078      Independent Movies  \n",
      "9079    International Movies  \n",
      "9080                  Dramas  \n",
      "9081      Independent Movies  \n",
      "9082    International Movies  \n",
      "9086                  Dramas  \n",
      "9087      Independent Movies  \n",
      "9088    International Movies  \n",
      "9089                  Dramas  \n",
      "9090      Independent Movies  \n",
      "9091    International Movies  \n",
      "9095                  Dramas  \n",
      "9096      Independent Movies  \n",
      "9097    International Movies  \n",
      "9098                  Dramas  \n",
      "9099      Independent Movies  \n",
      "9100    International Movies  \n",
      "9104                  Dramas  \n",
      "9105      Independent Movies  \n",
      "9106    International Movies  \n",
      "9107                  Dramas  \n",
      "9108      Independent Movies  \n",
      "9109    International Movies  \n",
      "9113                  Dramas  \n",
      "9114      Independent Movies  \n",
      "9115    International Movies  \n",
      "9116                  Dramas  \n",
      "9117      Independent Movies  \n",
      "9118    International Movies  \n",
      "9122                  Dramas  \n",
      "9123      Independent Movies  \n",
      "9124    International Movies  \n",
      "9125                  Dramas  \n",
      "9126      Independent Movies  \n",
      "9127    International Movies  \n"
     ]
    }
   ],
   "source": [
    "# Drop rows where contains empty strings\n",
    "netflix_data_cleaned = netflix_data_exploded[(netflix_data_exploded['cast'] != '') & (netflix_data_exploded['country'] != '')]\n",
    "filtered_data = netflix_data_cleaned[netflix_data_cleaned['title'].isin(['Eyes of a Thief', 'D.P.'])]\n",
    "print(filtered_data[['title', 'cast', 'country', 'listed_in']])\n",
    "\n"
   ]
  },
  {
   "cell_type": "code",
   "execution_count": 120,
   "id": "ac9a07a8-542f-42b7-ac07-40a8ef4d25d9",
   "metadata": {},
   "outputs": [
    {
     "name": "stderr",
     "output_type": "stream",
     "text": [
      "[nltk_data] Downloading package stopwords to\n",
      "[nltk_data]     /Users/sherryarora/nltk_data...\n",
      "[nltk_data]   Package stopwords is already up-to-date!\n"
     ]
    },
    {
     "name": "stdout",
     "output_type": "stream",
     "text": [
      "                       title  \\\n",
      "0       Dick Johnson Is Dead   \n",
      "1              Blood & Water   \n",
      "2              Blood & Water   \n",
      "3              Blood & Water   \n",
      "4              Blood & Water   \n",
      "...                      ...   \n",
      "201986                Zubaan   \n",
      "201987                Zubaan   \n",
      "201988                Zubaan   \n",
      "201989                Zubaan   \n",
      "201990                Zubaan   \n",
      "\n",
      "                                        description_clean  \n",
      "0       father nears end life filmmaker kirsten johnso...  \n",
      "1       crossing paths party cape town teen sets prove...  \n",
      "2       crossing paths party cape town teen sets prove...  \n",
      "3       crossing paths party cape town teen sets prove...  \n",
      "4       crossing paths party cape town teen sets prove...  \n",
      "...                                                   ...  \n",
      "201986  scrappy poor boy worms way tycoons dysfunction...  \n",
      "201987  scrappy poor boy worms way tycoons dysfunction...  \n",
      "201988  scrappy poor boy worms way tycoons dysfunction...  \n",
      "201989  scrappy poor boy worms way tycoons dysfunction...  \n",
      "201990  scrappy poor boy worms way tycoons dysfunction...  \n",
      "\n",
      "[201959 rows x 2 columns]\n"
     ]
    }
   ],
   "source": [
    "from nltk.corpus import stopwords\n",
    "from nltk import download\n",
    "download('stopwords')\n",
    "stop_words = set(stopwords.words('english'))\n",
    "\n",
    "# Function to clean description\n",
    "def clean_description(description):\n",
    "    description = description.lower()\n",
    "    description = re.sub(r'[^a-z\\s]', '', description)\n",
    "    words = description.split()\n",
    "    filtered_words = [word for word in words if word not in stop_words]\n",
    "    return ' '.join(filtered_words)\n",
    "\n",
    "netflix_data_cleaned = netflix_data_cleaned.copy()\n",
    "\n",
    "netflix_data_cleaned.loc[:, 'description_clean'] = netflix_data_cleaned['description'].apply(clean_description)\n",
    "\n",
    "print(netflix_data_cleaned[['title', 'description_clean']])\n"
   ]
  },
  {
   "cell_type": "code",
   "execution_count": 107,
   "id": "738f151c-0784-4516-9b62-dcc2acb51f4a",
   "metadata": {},
   "outputs": [],
   "source": [
    "netflix_data_cleaned.to_csv('netflix_data_clean.csv', index=False)\n"
   ]
  }
 ],
 "metadata": {
  "kernelspec": {
   "display_name": "Python 3 (ipykernel)",
   "language": "python",
   "name": "python3"
  },
  "language_info": {
   "codemirror_mode": {
    "name": "ipython",
    "version": 3
   },
   "file_extension": ".py",
   "mimetype": "text/x-python",
   "name": "python",
   "nbconvert_exporter": "python",
   "pygments_lexer": "ipython3",
   "version": "3.13.0"
  }
 },
 "nbformat": 4,
 "nbformat_minor": 5
}
